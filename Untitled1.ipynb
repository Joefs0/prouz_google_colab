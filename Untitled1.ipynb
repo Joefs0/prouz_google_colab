{
  "nbformat": 4,
  "nbformat_minor": 0,
  "metadata": {
    "colab": {
      "provenance": [],
      "authorship_tag": "ABX9TyODWStzP/Bsj8IupE9yL0MM",
      "include_colab_link": true
    },
    "kernelspec": {
      "name": "python3",
      "display_name": "Python 3"
    },
    "language_info": {
      "name": "python"
    }
  },
  "cells": [
    {
      "cell_type": "markdown",
      "metadata": {
        "id": "view-in-github",
        "colab_type": "text"
      },
      "source": [
        "<a href=\"https://colab.research.google.com/github/Joefs0/prouz_google_colab/blob/main/Untitled1.ipynb\" target=\"_parent\"><img src=\"https://colab.research.google.com/assets/colab-badge.svg\" alt=\"Open In Colab\"/></a>"
      ]
    },
    {
      "cell_type": "code",
      "execution_count": 2,
      "metadata": {
        "id": "ybuTaQASCx_r",
        "colab": {
          "base_uri": "https://localhost:8080/"
        },
        "outputId": "c666fa17-d651-48bd-da0a-334f0e5b0191"
      },
      "outputs": [
        {
          "output_type": "stream",
          "name": "stdout",
          "text": [
            "1: Soma\n",
            "2: Subtração\n",
            "3: Multiplicação\n",
            "4: Divisão\n",
            "0: Sair\n",
            "Digite o número para a operação correspondente: 5\n",
            "Essa opção não existe.\n",
            "\n",
            "1: Soma\n",
            "2: Subtração\n",
            "3: Multiplicação\n",
            "4: Divisão\n",
            "0: Sair\n",
            "Digite o número para a operação correspondente: 6\n",
            "Essa opção não existe.\n",
            "\n",
            "1: Soma\n",
            "2: Subtração\n",
            "3: Multiplicação\n",
            "4: Divisão\n",
            "0: Sair\n",
            "Digite o número para a operação correspondente: 1\n",
            "Digite o primeiro valor: 5\n",
            "Digite o segundo valor: 8\n",
            "Resultado da soma: 13.0\n",
            "\n",
            "1: Soma\n",
            "2: Subtração\n",
            "3: Multiplicação\n",
            "4: Divisão\n",
            "0: Sair\n",
            "Digite o número para a operação correspondente: 0\n",
            "Saindo...\n"
          ]
        }
      ],
      "source": [
        "def calculadora():\n",
        "    while True:\n",
        "        print(\"1: Soma\")\n",
        "        print(\"2: Subtração\")\n",
        "        print(\"3: Multiplicação\")\n",
        "        print(\"4: Divisão\")\n",
        "        print(\"0: Sair\")\n",
        "\n",
        "        op = input(\"Digite o número para a operação correspondente: \")\n",
        "\n",
        "        if op == \"0\":\n",
        "            print(\"Saindo...\")\n",
        "            break\n",
        "        elif op in (\"1\", \"2\", \"3\", \"4\"):\n",
        "            try:\n",
        "                num1 = float(input(\"Digite o primeiro valor: \"))\n",
        "                num2 = float(input(\"Digite o segundo valor: \"))\n",
        "\n",
        "                if op == \"1\":\n",
        "                    resultado = num1 + num2\n",
        "                    print(\"Resultado da soma:\", resultado)\n",
        "                elif op == \"2\":\n",
        "                    resultado = num1 - num2\n",
        "                    print(\"Resultado da subtração:\", resultado)\n",
        "                elif op == \"3\":\n",
        "                    resultado = num1 * num2\n",
        "                    print(\"Resultado da multiplicação:\", resultado)\n",
        "                elif op == \"4\":\n",
        "                    if num2 == 0:\n",
        "                        print(\"Não é possível dividir por zero.\")\n",
        "                    else:\n",
        "                        resultado = num1 / num2\n",
        "                        print(\"Resultado da divisão:\", resultado)\n",
        "            except ValueError:\n",
        "                print(\"Por favor, insira números válidos.\")\n",
        "        else:\n",
        "            print(\"Essa opção não existe.\")\n",
        "\n",
        "        print()\n",
        "\n",
        "calculadora()\n"
      ]
    }
  ]
}