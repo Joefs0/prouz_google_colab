{
  "nbformat": 4,
  "nbformat_minor": 0,
  "metadata": {
    "colab": {
      "provenance": [],
      "authorship_tag": "ABX9TyPcQ+2PavrS++X3crbGLvRa",
      "include_colab_link": true
    },
    "kernelspec": {
      "name": "python3",
      "display_name": "Python 3"
    },
    "language_info": {
      "name": "python"
    }
  },
  "cells": [
    {
      "cell_type": "markdown",
      "metadata": {
        "id": "view-in-github",
        "colab_type": "text"
      },
      "source": [
        "<a href=\"https://colab.research.google.com/github/Joefs0/prouz_google_colab/blob/main/Untitled0.ipynb\" target=\"_parent\"><img src=\"https://colab.research.google.com/assets/colab-badge.svg\" alt=\"Open In Colab\"/></a>"
      ]
    },
    {
      "cell_type": "code",
      "execution_count": 1,
      "metadata": {
        "id": "ybuTaQASCx_r",
        "colab": {
          "base_uri": "https://localhost:8080/"
        },
        "outputId": "193433cc-f788-4cb4-bceb-cbd6a59900f7"
      },
      "outputs": [
        {
          "output_type": "stream",
          "name": "stdout",
          "text": [
            "Digite seu nome completo: Joanderson Feliciano da Silva\n",
            "Digite o ano de nascimento (entre 1922 e 2021): 1997\n",
            "Nome: Joanderson Feliciano da Silva\n",
            "Idade em 2022: 26 anos\n"
          ]
        }
      ],
      "source": [
        "from datetime import datetime\n",
        "\n",
        "def obter_ano():\n",
        "    while True:\n",
        "        try:\n",
        "            ano = int(input(\"Digite o ano de nascimento (entre 1922 e 2021): \"))\n",
        "            if 1922 <= ano <= 2021:\n",
        "                return ano\n",
        "        except ValueError:\n",
        "            pass\n",
        "        print(\"Por favor, digite um ano válido.\")\n",
        "\n",
        "nome_completo = input(\"Digite seu nome completo: \")\n",
        "ano_nascimento = obter_ano()\n",
        "\n",
        "idade = datetime.now().year - ano_nascimento\n",
        "\n",
        "print(f\"Nome: {nome_completo}\")\n",
        "print(f\"Idade em 2022: {idade} anos\")"
      ]
    }
  ]
}